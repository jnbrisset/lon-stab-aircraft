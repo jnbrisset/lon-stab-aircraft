{
 "cells": [
  {
   "cell_type": "markdown",
   "metadata": {},
   "source": [
    "# Longitudinal control"
   ]
  },
  {
   "cell_type": "markdown",
   "metadata": {},
   "source": [
    "## Vertical Speed"
   ]
  },
  {
   "cell_type": "code",
   "execution_count": 1,
   "metadata": {},
   "outputs": [],
   "source": [
    "from scipy import signal\n",
    "import numpy as np"
   ]
  },
  {
   "cell_type": "code",
   "execution_count": 2,
   "metadata": {},
   "outputs": [
    {
     "name": "stdout",
     "output_type": "stream",
     "text": [
      "[-0.66663372+0.73510829j -0.66663372-0.73510829j  0.01163372+0.19774139j\n",
      "  0.01163372-0.19774139j]\n"
     ]
    },
    {
     "name": "stderr",
     "output_type": "stream",
     "text": [
      "/opt/homebrew/lib/python3.11/site-packages/scipy/signal/_filter_design.py:1746: BadCoefficients: Badly conditioned filter coefficients (numerator): the results may be meaningless\n",
      "  warnings.warn(\"Badly conditioned filter coefficients (numerator): the \"\n"
     ]
    }
   ],
   "source": [
    "A = np.array([[-0.01, 0.1, 0, -32.2], \n",
    "              [-0.40, -0.8, 180, 0],\n",
    "              [0, -0.003, -0.5, 0],\n",
    "              [0, 0, 1, 0]])\n",
    "\n",
    "B = np.array([[0], [-10], [-2.8], [0]])\n",
    "\n",
    "C = np.array([[0, 0, 0, 1]])\n",
    "\n",
    "D = np.array([[0]])\n",
    "\n",
    "sys = signal.StateSpace(A, B, C, D)\n",
    "print(sys.poles)"
   ]
  },
  {
   "cell_type": "code",
   "execution_count": 7,
   "metadata": {},
   "outputs": [
    {
     "name": "stdout",
     "output_type": "stream",
     "text": [
      "[-0.6 +2.j  -0.6 -2.j  -0.05+0.1j -0.05-0.1j]\n",
      "StateSpaceContinuous(\n",
      "array([[-1.3   , -4.4925, -0.451 , -0.0545],\n",
      "       [ 1.    ,  0.    ,  0.    ,  0.    ],\n",
      "       [ 0.    ,  1.    ,  0.    ,  0.    ],\n",
      "       [ 0.    ,  0.    ,  1.    ,  0.    ]]),\n",
      "array([[1.],\n",
      "       [0.],\n",
      "       [0.],\n",
      "       [0.]]),\n",
      "array([[0., 0., 0., 1.]]),\n",
      "array([[0.]]),\n",
      "dt: None\n",
      ")\n"
     ]
    }
   ],
   "source": [
    "zeta_sp = 0.6\n",
    "w_n_sp = 2.0\n",
    "zeta_ph = 0.05\n",
    "w_n_ph = 0.1\n",
    "\n",
    "sys_2 = signal.ZerosPolesGain([], [-zeta_sp+w_n_sp*1j, -zeta_sp-w_n_sp*1j, -zeta_ph+w_n_ph*1j, -zeta_ph-w_n_ph*1j], 1)\n",
    "print(sys_2.poles)\n",
    "print(sys_2.to_ss())"
   ]
  },
  {
   "cell_type": "code",
   "execution_count": null,
   "metadata": {},
   "outputs": [],
   "source": []
  }
 ],
 "metadata": {
  "kernelspec": {
   "display_name": "Python 3.11.3 64-bit",
   "language": "python",
   "name": "python3"
  },
  "language_info": {
   "codemirror_mode": {
    "name": "ipython",
    "version": 3
   },
   "file_extension": ".py",
   "mimetype": "text/x-python",
   "name": "python",
   "nbconvert_exporter": "python",
   "pygments_lexer": "ipython3",
   "version": "3.11.3"
  },
  "orig_nbformat": 4,
  "vscode": {
   "interpreter": {
    "hash": "b0fa6594d8f4cbf19f97940f81e996739fb7646882a419484c72d19e05852a7e"
   }
  }
 },
 "nbformat": 4,
 "nbformat_minor": 2
}
